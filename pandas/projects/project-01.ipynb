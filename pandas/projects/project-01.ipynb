{
 "cells": [
  {
   "cell_type": "markdown",
   "metadata": {},
   "source": [
    "# Project 01"
   ]
  },
  {
   "cell_type": "code",
   "execution_count": 34,
   "metadata": {},
   "outputs": [
    {
     "name": "stdout",
     "output_type": "stream",
     "text": [
      "Shape of data \n",
      " (150, 8) \n",
      "\n",
      "All Columns \n",
      " Index(['EmployeeID', 'Name', 'Age', 'Gender', 'Department', 'Salary',\n",
      "       'JoinDate', 'PerformanceScore'],\n",
      "      dtype='object') \n",
      "\n"
     ]
    }
   ],
   "source": [
    "import pandas as pd\n",
    "\n",
    "\n",
    "# Load the data\n",
    "df = pd.read_csv(\"./employee_data_project.csv\")\n",
    "\n",
    "\n",
    "# check the data formate\n",
    "print(\"Shape of data \\n\", df.shape , \"\\n\")\n",
    "print(\"All Columns \\n\", df.columns , \"\\n\")"
   ]
  },
  {
   "cell_type": "code",
   "execution_count": 35,
   "metadata": {},
   "outputs": [
    {
     "name": "stdout",
     "output_type": "stream",
     "text": [
      "missing values \n",
      " EmployeeID          0\n",
      "Name                0\n",
      "Age                 6\n",
      "Gender              0\n",
      "Department          0\n",
      "Salary              4\n",
      "JoinDate            0\n",
      "PerformanceScore    0\n",
      "dtype: int64\n"
     ]
    }
   ],
   "source": [
    "# check all missing values\n",
    "print(\"missing values \\n\", df.isnull().sum())"
   ]
  },
  {
   "cell_type": "code",
   "execution_count": 33,
   "metadata": {},
   "outputs": [
    {
     "name": "stdout",
     "output_type": "stream",
     "text": [
      "Add Age missing values \n",
      "    EmployeeID             Name   Age  Gender Department    Salary   JoinDate  \\\n",
      "0        2520   Michael Rogers  23.0  Female    Finance   33997.0 2020-07-10   \n",
      "1        4511  Gabrielle Ortiz  37.0    Male         HR  108922.0 2018-05-04   \n",
      "2        6122    Scott Cabrera  23.0  Female    Finance   50317.0 2018-09-22   \n",
      "3        3191   Caitlin Patton  26.0    Male         HR  102447.0 2024-01-26   \n",
      "4        6244    Melissa Smith  46.0  Female         HR   79335.0 2024-01-02   \n",
      "\n",
      "  PerformanceScore  \n",
      "0             Poor  \n",
      "1        Excellent  \n",
      "2        Excellent  \n",
      "3             Poor  \n",
      "4          Average  \n",
      "\n",
      " -------------------- \n",
      "\n",
      "missing values \n",
      " EmployeeID          0\n",
      "Name                0\n",
      "Age                 0\n",
      "Gender              0\n",
      "Department          0\n",
      "Salary              0\n",
      "JoinDate            0\n",
      "PerformanceScore    0\n",
      "dtype: int64\n"
     ]
    },
    {
     "name": "stderr",
     "output_type": "stream",
     "text": [
      "/tmp/ipykernel_25968/3343525663.py:2: FutureWarning: A value is trying to be set on a copy of a DataFrame or Series through chained assignment using an inplace method.\n",
      "The behavior will change in pandas 3.0. This inplace method will never work because the intermediate object on which we are setting values always behaves as a copy.\n",
      "\n",
      "For example, when doing 'df[col].method(value, inplace=True)', try using 'df.method({col: value}, inplace=True)' or df[col] = df[col].method(value) instead, to perform the operation inplace on the original object.\n",
      "\n",
      "\n",
      "  df[\"Age\"].fillna(df[\"Age\"].mean() , inplace=True)\n",
      "/tmp/ipykernel_25968/3343525663.py:3: FutureWarning: A value is trying to be set on a copy of a DataFrame or Series through chained assignment using an inplace method.\n",
      "The behavior will change in pandas 3.0. This inplace method will never work because the intermediate object on which we are setting values always behaves as a copy.\n",
      "\n",
      "For example, when doing 'df[col].method(value, inplace=True)', try using 'df.method({col: value}, inplace=True)' or df[col] = df[col].method(value) instead, to perform the operation inplace on the original object.\n",
      "\n",
      "\n",
      "  df[\"Salary\"].fillna(df[\"Salary\"].mean() , inplace=True)\n"
     ]
    }
   ],
   "source": [
    "# fill missing value in age\n",
    "df[\"Age\"].fillna(df[\"Age\"].mean() , inplace=True)\n",
    "df[\"Salary\"].fillna(df[\"Salary\"].mean() , inplace=True)\n",
    "print(\"Add Age missing values \\n\", df.head())\n",
    "print(\"\\n -------------------- \\n\")\n",
    "print(\"missing values \\n\", df.isnull().sum())"
   ]
  },
  {
   "cell_type": "code",
   "execution_count": 36,
   "metadata": {},
   "outputs": [
    {
     "name": "stdout",
     "output_type": "stream",
     "text": [
      "Duplicates values \n",
      " 0 \n",
      "\n"
     ]
    }
   ],
   "source": [
    "# delete duplicate values\n",
    "print(\"Duplicates values \\n\" , df.duplicated().sum() , \"\\n\") \n",
    "\n",
    "# drop duplicate\n",
    "df.drop_duplicates(inplace=True)"
   ]
  },
  {
   "cell_type": "code",
   "execution_count": 37,
   "metadata": {},
   "outputs": [],
   "source": [
    "# drop the row having the wrong formate\n",
    "df[\"JoinDate\"] = pd.to_datetime(df[\"JoinDate\"] , errors=\"coerce\")\n",
    "df.dropna(subset=[\"JoinDate\"] , inplace=True)\n",
    "\n",
    "\n",
    "# now our data is clean now need to sav it in a file\n",
    "df.to_csv(\"clean_employee_data.csv\", index=False)"
   ]
  },
  {
   "cell_type": "code",
   "execution_count": null,
   "metadata": {},
   "outputs": [],
   "source": []
  }
 ],
 "metadata": {
  "kernelspec": {
   "display_name": "myvenv",
   "language": "python",
   "name": "python3"
  },
  "language_info": {
   "codemirror_mode": {
    "name": "ipython",
    "version": 3
   },
   "file_extension": ".py",
   "mimetype": "text/x-python",
   "name": "python",
   "nbconvert_exporter": "python",
   "pygments_lexer": "ipython3",
   "version": "3.12.3"
  }
 },
 "nbformat": 4,
 "nbformat_minor": 2
}
