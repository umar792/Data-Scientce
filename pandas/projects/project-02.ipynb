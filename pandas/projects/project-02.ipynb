{
 "cells": [
  {
   "cell_type": "markdown",
   "metadata": {},
   "source": [
    "# Project 02"
   ]
  },
  {
   "cell_type": "code",
   "execution_count": 1,
   "metadata": {},
   "outputs": [
    {
     "name": "stdout",
     "output_type": "stream",
     "text": [
      "   OrderID  CustomerID  ProductID     Category  Quantity   Price   OrderDate  \\\n",
      "0   192389        1918       2720       Sports       9.0  490.57  2025-02-07   \n",
      "1   116449        1920       2634         Home       6.0   43.83  2025-01-10   \n",
      "2   121657        1285       2720       Cloths       4.0  464.08  2024-06-12   \n",
      "3   142346        1509       2514  Electronics       7.0  138.25  2024-10-24   \n",
      "4   144300        1204       2852         Home       9.0     NaN  2024-06-30   \n",
      "\n",
      "  ShipmentDate     Status  \n",
      "0   2025-02-11  Cancelled  \n",
      "1   2025-01-17    Shipped  \n",
      "2   2024-06-25  Cancelled  \n",
      "3   2024-11-09    Pending  \n",
      "4   2024-07-03  Cancelled  \n"
     ]
    }
   ],
   "source": [
    "import pandas as pd\n",
    "\n",
    "\n",
    "# load csv data\n",
    "df = pd.read_csv(\"./ecommerce_data_project.csv\")\n",
    "print(df.head())"
   ]
  },
  {
   "cell_type": "code",
   "execution_count": 3,
   "metadata": {},
   "outputs": [
    {
     "name": "stdout",
     "output_type": "stream",
     "text": [
      "\n",
      " shape of data (120, 9) \n",
      "\n",
      "\n",
      " columns of data  Index(['OrderID', 'CustomerID', 'ProductID', 'Category', 'Quantity', 'Price',\n",
      "       'OrderDate', 'ShipmentDate', 'Status'],\n",
      "      dtype='object') \n",
      "\n"
     ]
    }
   ],
   "source": [
    "# find the shape of data\n",
    "print(\"\\n shape of data\" , df.shape , \"\\n\")\n",
    "\n",
    "# find the columns \n",
    "print(\"\\n columns of data \", df.columns , \"\\n\")"
   ]
  },
  {
   "cell_type": "markdown",
   "metadata": {},
   "source": [
    "### Remove all NAN or Null values"
   ]
  },
  {
   "cell_type": "code",
   "execution_count": null,
   "metadata": {},
   "outputs": [
    {
     "name": "stdout",
     "output_type": "stream",
     "text": [
      "total null values \n",
      " OrderID          0\n",
      "CustomerID       0\n",
      "ProductID        0\n",
      "Category         0\n",
      "Quantity        14\n",
      "Price           12\n",
      "OrderDate        0\n",
      "ShipmentDate     0\n",
      "Status           0\n",
      "dtype: int64 \n",
      "\n"
     ]
    }
   ],
   "source": [
    "# get null or nan values\n",
    "print(\"total null values \\n\", df.isnull().sum() , \"\\n\" )"
   ]
  },
  {
   "cell_type": "code",
   "execution_count": 6,
   "metadata": {},
   "outputs": [
    {
     "name": "stdout",
     "output_type": "stream",
     "text": [
      "total null values \n",
      " OrderID         0\n",
      "CustomerID      0\n",
      "ProductID       0\n",
      "Category        0\n",
      "Quantity        0\n",
      "Price           0\n",
      "OrderDate       0\n",
      "ShipmentDate    0\n",
      "Status          0\n",
      "dtype: int64 \n",
      "\n"
     ]
    },
    {
     "name": "stderr",
     "output_type": "stream",
     "text": [
      "/tmp/ipykernel_35731/2100788774.py:2: FutureWarning: A value is trying to be set on a copy of a DataFrame or Series through chained assignment using an inplace method.\n",
      "The behavior will change in pandas 3.0. This inplace method will never work because the intermediate object on which we are setting values always behaves as a copy.\n",
      "\n",
      "For example, when doing 'df[col].method(value, inplace=True)', try using 'df.method({col: value}, inplace=True)' or df[col] = df[col].method(value) instead, to perform the operation inplace on the original object.\n",
      "\n",
      "\n",
      "  df[\"Quantity\"].fillna(df[\"Quantity\"].mean(), inplace=True)\n",
      "/tmp/ipykernel_35731/2100788774.py:3: FutureWarning: A value is trying to be set on a copy of a DataFrame or Series through chained assignment using an inplace method.\n",
      "The behavior will change in pandas 3.0. This inplace method will never work because the intermediate object on which we are setting values always behaves as a copy.\n",
      "\n",
      "For example, when doing 'df[col].method(value, inplace=True)', try using 'df.method({col: value}, inplace=True)' or df[col] = df[col].method(value) instead, to perform the operation inplace on the original object.\n",
      "\n",
      "\n",
      "  df[\"Price\"].fillna(df[\"Price\"].mean(), inplace=True)\n"
     ]
    }
   ],
   "source": [
    "# update null values\n",
    "df[\"Quantity\"].fillna(df[\"Quantity\"].mean(), inplace=True)\n",
    "df[\"Price\"].fillna(df[\"Price\"].mean(), inplace=True)\n",
    "print(\"total null values \\n\", df.isnull().sum() , \"\\n\" )"
   ]
  },
  {
   "cell_type": "markdown",
   "metadata": {},
   "source": [
    "### Remove duplicates values"
   ]
  },
  {
   "cell_type": "code",
   "execution_count": null,
   "metadata": {},
   "outputs": [
    {
     "name": "stdout",
     "output_type": "stream",
     "text": [
      "total duplicate values \n",
      " 0 \n",
      "\n"
     ]
    }
   ],
   "source": [
    "# find total duplicate values\n",
    "print(\"total duplicate values \\n\", df.duplicated().sum() , \"\\n\")\n",
    "\n",
    "# if exist then remove\n",
    "# df.drop_duplicates(inplace=True)"
   ]
  },
  {
   "cell_type": "markdown",
   "metadata": {},
   "source": [
    "### check the order date formate"
   ]
  },
  {
   "cell_type": "code",
   "execution_count": 10,
   "metadata": {},
   "outputs": [],
   "source": [
    "# save clean data\n",
    "df.to_csv(\"clean_eco_data.csv\" , index=False)"
   ]
  },
  {
   "cell_type": "code",
   "execution_count": null,
   "metadata": {},
   "outputs": [],
   "source": []
  }
 ],
 "metadata": {
  "kernelspec": {
   "display_name": "myvenv",
   "language": "python",
   "name": "python3"
  },
  "language_info": {
   "codemirror_mode": {
    "name": "ipython",
    "version": 3
   },
   "file_extension": ".py",
   "mimetype": "text/x-python",
   "name": "python",
   "nbconvert_exporter": "python",
   "pygments_lexer": "ipython3",
   "version": "3.12.3"
  }
 },
 "nbformat": 4,
 "nbformat_minor": 2
}
