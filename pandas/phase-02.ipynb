{
 "cells": [
  {
   "cell_type": "markdown",
   "metadata": {},
   "source": [
    "# Advance pandas"
   ]
  },
  {
   "cell_type": "code",
   "execution_count": 1,
   "metadata": {},
   "outputs": [],
   "source": [
    "import pandas as pd"
   ]
  },
  {
   "cell_type": "code",
   "execution_count": 15,
   "metadata": {},
   "outputs": [
    {
     "name": "stdout",
     "output_type": "stream",
     "text": [
      "       Name  Age   Salary   Bonus\n",
      "0      John   30  52500.0  5000.0\n",
      "1  John Doe   40  42000.0  4000.0\n",
      "2    Michel   33  31500.0  3000.0\n",
      "3   Jackson   44  47250.0  4500.0\n",
      "4      Jack   27  45150.0  4300.0\n",
      "5       Mic   37  36750.0  3500.0\n",
      "6    Taylor   32  31500.0  3000.0\n",
      "7    Johnny   35  33600.0  3200.0\n"
     ]
    }
   ],
   "source": [
    "data = {\n",
    "    \"Name\" : [\"John\",\"Doe\",\"Michel\",\"Jackson\",\"Jack\",\"Mic\",\"Taylor\",\"Johnny\"],\n",
    "    \"Age\" : [30, 40 , 33 , 44 , 27 , 37 , 32 , 35],\n",
    "    \"Salary\" : [50000 , 40000, 30000 , 45000 , 43000,35000 , 30000 , 32000]\n",
    "}\n",
    "df = pd.DataFrame(data)\n",
    "\n",
    "# add new column in data\n",
    "df[\"Bonus\"] = df[\"Salary\"] * 0.1 # add 10% bonus\n",
    "\n",
    "# replace column with new data\n",
    "df[\"Salary\"] = df[\"Salary\"] * 1.05 # add 5% increment\n",
    "\n",
    "\n",
    "# change any value in data \n",
    "df.loc[1 , \"Name\"] = \"John Doe\"\n",
    "\n",
    "\n",
    "# insert data at any specific place\n",
    "df.insert(0 , \"Id\",[1,2,3,4,5,6,7,8] , allow_duplicates=False)\n",
    "\n",
    "\n",
    "# delete any data\n",
    "df.drop(columns=[\"Id\"], inplace=True)\n",
    "\n",
    "\n",
    "print(df)"
   ]
  },
  {
   "cell_type": "code",
   "execution_count": null,
   "metadata": {},
   "outputs": [],
   "source": []
  }
 ],
 "metadata": {
  "kernelspec": {
   "display_name": "myvenv",
   "language": "python",
   "name": "python3"
  },
  "language_info": {
   "codemirror_mode": {
    "name": "ipython",
    "version": 3
   },
   "file_extension": ".py",
   "mimetype": "text/x-python",
   "name": "python",
   "nbconvert_exporter": "python",
   "pygments_lexer": "ipython3",
   "version": "3.12.3"
  }
 },
 "nbformat": 4,
 "nbformat_minor": 2
}
