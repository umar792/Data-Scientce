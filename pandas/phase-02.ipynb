{
 "cells": [
  {
   "cell_type": "markdown",
   "metadata": {},
   "source": [
    "# Advance pandas"
   ]
  },
  {
   "cell_type": "code",
   "execution_count": 3,
   "metadata": {},
   "outputs": [],
   "source": [
    "import pandas as pd"
   ]
  },
  {
   "cell_type": "code",
   "execution_count": 15,
   "metadata": {},
   "outputs": [
    {
     "name": "stdout",
     "output_type": "stream",
     "text": [
      "       Name  Age   Salary   Bonus\n",
      "0      John   30  52500.0  5000.0\n",
      "1  John Doe   40  42000.0  4000.0\n",
      "2    Michel   33  31500.0  3000.0\n",
      "3   Jackson   44  47250.0  4500.0\n",
      "4      Jack   27  45150.0  4300.0\n",
      "5       Mic   37  36750.0  3500.0\n",
      "6    Taylor   32  31500.0  3000.0\n",
      "7    Johnny   35  33600.0  3200.0\n"
     ]
    }
   ],
   "source": [
    "data = {\n",
    "    \"Name\" : [\"John\",\"Doe\",\"Michel\",\"Jackson\",\"Jack\",\"Mic\",\"Taylor\",\"Johnny\"],\n",
    "    \"Age\" : [30, 40 , 33 , 44 , 27 , 37 , 32 , 35],\n",
    "    \"Salary\" : [50000 , 40000, 30000 , 45000 , 43000,35000 , 30000 , 32000]\n",
    "}\n",
    "df = pd.DataFrame(data)\n",
    "\n",
    "# add new column in data\n",
    "df[\"Bonus\"] = df[\"Salary\"] * 0.1 # add 10% bonus\n",
    "\n",
    "# replace column with new data\n",
    "df[\"Salary\"] = df[\"Salary\"] * 1.05 # add 5% increment\n",
    "\n",
    "\n",
    "# change any value in data \n",
    "df.loc[1 , \"Name\"] = \"John Doe\"\n",
    "\n",
    "\n",
    "# insert data at any specific place\n",
    "df.insert(0 , \"Id\",[1,2,3,4,5,6,7,8] , allow_duplicates=False)\n",
    "\n",
    "\n",
    "# delete any data\n",
    "df.drop(columns=[\"Id\"], inplace=True)\n",
    "\n",
    "\n",
    "print(df)"
   ]
  },
  {
   "cell_type": "markdown",
   "metadata": {},
   "source": [
    "### Data Cleaning"
   ]
  },
  {
   "cell_type": "code",
   "execution_count": null,
   "metadata": {},
   "outputs": [
    {
     "name": "stdout",
     "output_type": "stream",
     "text": [
      "            Name   Age  Gender   Salary    JoinDate\n",
      "0     John Smith  29.0    Male  50000.0  2020-01-15\n",
      "1   Mary Johnson   NaN  Female  62000.0  2019-03-22\n",
      "2   Robert Brown  45.0    Male      NaN  2018-07-30\n",
      "3    Emily Davis  33.0  Female  71000.0  2021-06-17\n",
      "4     John Smith  29.0    Male  50000.0  2020-01-15\n",
      "5            NaN  38.0     NaN  54000.0  2020-10-05\n",
      "6       Alex Lee  27.0    Male  58000.0  not_a_date \n",
      "\n",
      "Find missing values in columns \n",
      "     Name    Age  Gender  Salary  JoinDate\n",
      "0  False  False   False   False     False\n",
      "1  False   True   False   False     False\n",
      "2  False  False   False    True     False\n",
      "3  False  False   False   False     False\n",
      "4  False  False   False   False     False\n",
      "5   True  False    True   False     False\n",
      "6  False  False   False   False     False \n",
      "\n",
      "Total null values \n",
      " Name        1\n",
      "Age         1\n",
      "Gender      1\n",
      "Salary      1\n",
      "JoinDate    0\n",
      "dtype: int64 \n",
      "\n",
      "          Name   Age  Gender   Salary   JoinDate\n",
      "0   John Smith  29.0    Male  50000.0 2020-01-15\n",
      "3  Emily Davis  33.0  Female  71000.0 2021-06-17\n",
      "4   John Smith  29.0    Male  50000.0 2020-01-15\n",
      "6     Alex Lee  27.0    Male  58000.0        NaT\n"
     ]
    }
   ],
   "source": [
    "# clean data from null or NAN  values\n",
    "\n",
    "\n",
    "clean_data = pd.read_csv(\"./sample_data_clean.csv\", encoding=\"latin1\")\n",
    "print(clean_data , \"\\n\")\n",
    "# find where the data is null\n",
    "print(\"Find missing values in columns \\n\", clean_data.isnull(), \"\\n\")\n",
    "\n",
    "# find the total null values\n",
    "print(\"Total null values \\n\" , clean_data.isnull().sum(), \"\\n\")\n",
    "\n",
    "# fill data in null values \n",
    "\n",
    "# clean_data[\"Age\"].fillna(90 , inplace=True , axis=0)\n",
    "# clean_data[\"Gender\"].fillna(\"Male\", inplace=True)\n",
    "# clean_data[\"Age\"].fillna(clean_data[\"Age\"].mean(), inplace=True)\n",
    "# clean_data[\"Age\"].fillna(clean_data[\"Age\"].interpolate(method=\"linear\"), inplace=True)\n",
    "\n",
    "# drop null values\n",
    "# clean_data.dropna(axis=0 , inplace=True)\n",
    "\n",
    "# wrong formate\n",
    "# clean_data[\"JoinDate\"] = pd.to_datetime(clean_data[\"JoinDate\"], errors=\"coerce\")\n",
    "\n",
    "\n",
    "print(clean_data)\n"
   ]
  },
  {
   "cell_type": "code",
   "execution_count": null,
   "metadata": {},
   "outputs": [],
   "source": []
  }
 ],
 "metadata": {
  "kernelspec": {
   "display_name": "myvenv",
   "language": "python",
   "name": "python3"
  },
  "language_info": {
   "codemirror_mode": {
    "name": "ipython",
    "version": 3
   },
   "file_extension": ".py",
   "mimetype": "text/x-python",
   "name": "python",
   "nbconvert_exporter": "python",
   "pygments_lexer": "ipython3",
   "version": "3.12.3"
  }
 },
 "nbformat": 4,
 "nbformat_minor": 2
}
