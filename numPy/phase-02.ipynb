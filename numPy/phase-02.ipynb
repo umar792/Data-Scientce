{
 "cells": [
  {
   "cell_type": "markdown",
   "metadata": {},
   "source": [
    "# NumPy Array Operations"
   ]
  },
  {
   "cell_type": "code",
   "execution_count": 1,
   "metadata": {},
   "outputs": [],
   "source": [
    "import numpy as np"
   ]
  },
  {
   "cell_type": "code",
   "execution_count": 7,
   "metadata": {},
   "outputs": [
    {
     "name": "stdout",
     "output_type": "stream",
     "text": [
      "basic slicing \n",
      " [2 3 4 5 6]\n",
      "step slicing \n",
      " [1 3 5 7]\n",
      "negative slicing \n",
      " 6\n"
     ]
    }
   ],
   "source": [
    "arr = np.array([1,2,3,4,5,6,7,8,9,10])\n",
    "print(\"basic slicing \\n\", arr[1:6]) # basic slicing \n",
    "print(\"step slicing \\n\", arr[0:7:2]) # start , stop , skip each number\n",
    "print(\"negative slicing \\n\", arr[-5])"
   ]
  },
  {
   "cell_type": "code",
   "execution_count": 11,
   "metadata": {},
   "outputs": [
    {
     "name": "stdout",
     "output_type": "stream",
     "text": [
      "row wise slicing \n",
      " 8\n",
      "full row slicing \n",
      " [1 2 3]\n",
      "column slicing \n",
      " [3 6 9]\n"
     ]
    }
   ],
   "source": [
    "arr_2d = np.array([[1,2,3],\n",
    "                   [4,5,6],\n",
    "                   [7,8,9]])\n",
    "\n",
    "print(\"row wise slicing \\n\", arr_2d[2,1]) # row index , row value index\n",
    "print(\"full row slicing \\n\", arr_2d[0]) # enter row index\n",
    "print(\"column slicing \\n\" , arr_2d[:,2])\n"
   ]
  },
  {
   "cell_type": "markdown",
   "metadata": {},
   "source": [
    "### Filtration"
   ]
  },
  {
   "cell_type": "code",
   "execution_count": 13,
   "metadata": {},
   "outputs": [
    {
     "name": "stdout",
     "output_type": "stream",
     "text": [
      "even numbers \n",
      " [ 2  4  6  8 10]\n",
      "odd numbers \n",
      " [1 3 5 7 9]\n"
     ]
    }
   ],
   "source": [
    "numbers = np.array([1,2,3,4,5,6,7,8,9,10])\n",
    "even_numbers = numbers[numbers % 2 == 0]\n",
    "odd_numbers = numbers[numbers % 2 != 0]\n",
    "print(\"even numbers \\n\", even_numbers)\n",
    "print(\"odd numbers \\n\", odd_numbers)\n"
   ]
  },
  {
   "cell_type": "markdown",
   "metadata": {},
   "source": [
    "### Mask slicing"
   ]
  },
  {
   "cell_type": "code",
   "execution_count": 14,
   "metadata": {},
   "outputs": [
    {
     "name": "stdout",
     "output_type": "stream",
     "text": [
      "mask slicing \n",
      " [ 6  7  8  9 10]\n"
     ]
    }
   ],
   "source": [
    "mask = numbers > 5\n",
    "print(\"mask slicing \\n\", numbers[mask])"
   ]
  },
  {
   "cell_type": "markdown",
   "metadata": {},
   "source": [
    "### conditional array "
   ]
  },
  {
   "cell_type": "code",
   "execution_count": 17,
   "metadata": {},
   "outputs": [
    {
     "name": "stdout",
     "output_type": "stream",
     "text": [
      "where \n",
      " (array([5, 6, 7, 8, 9]),)\n",
      "list of number array on condition \n",
      " [ 6  7  8  9 10]\n",
      "conditional array \n",
      " [ 1  2  3  4 25 30 35 40 45 50]\n"
     ]
    }
   ],
   "source": [
    "where = np.where(numbers > 5)\n",
    "print(\"where \\n\", where )\n",
    "print('list of number array on condition \\n', numbers[where])\n",
    "\n",
    "\n",
    "\n",
    "conditional_array = np.where(numbers > 4 , numbers * 5 , numbers) # if (condition) ? number * 4 : numbers\n",
    "print(\"conditional array \\n\", conditional_array)\n",
    "\n"
   ]
  },
  {
   "cell_type": "code",
   "execution_count": null,
   "metadata": {},
   "outputs": [],
   "source": []
  }
 ],
 "metadata": {
  "kernelspec": {
   "display_name": "myvenv",
   "language": "python",
   "name": "python3"
  },
  "language_info": {
   "codemirror_mode": {
    "name": "ipython",
    "version": 3
   },
   "file_extension": ".py",
   "mimetype": "text/x-python",
   "name": "python",
   "nbconvert_exporter": "python",
   "pygments_lexer": "ipython3",
   "version": "3.12.3"
  }
 },
 "nbformat": 4,
 "nbformat_minor": 2
}
