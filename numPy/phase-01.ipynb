{
 "cells": [
  {
   "cell_type": "markdown",
   "metadata": {},
   "source": [
    "# NumPy arrays and basics"
   ]
  },
  {
   "cell_type": "markdown",
   "metadata": {},
   "source": []
  },
  {
   "cell_type": "code",
   "execution_count": 4,
   "metadata": {},
   "outputs": [],
   "source": [
    "import numpy as np\n",
    "import time"
   ]
  },
  {
   "cell_type": "markdown",
   "metadata": {},
   "source": [
    "### arrays in numPy"
   ]
  },
  {
   "cell_type": "code",
   "execution_count": 2,
   "metadata": {},
   "outputs": [
    {
     "name": "stdout",
     "output_type": "stream",
     "text": [
      "[1 2 3 4 5 6]\n",
      "[[1 2 3]\n",
      " [4 5 6]]\n",
      "[[[1 2 3]\n",
      "  [4 5 6]\n",
      "  [7 8 9]]]\n"
     ]
    }
   ],
   "source": [
    "# 1d array \n",
    "arr_1d = np.array([1,2,3,4,5,6])\n",
    "print(arr_1d)\n",
    "\n",
    "# 2d array\n",
    "arr_2d = np.array([[1,2,3],[4,5,6]])\n",
    "print(arr_2d)\n",
    "\n",
    "#3d array\n",
    "arr_3d = np.array([[[1,2,3],[4,5,6],[7,8,9]]])\n",
    "print(arr_3d)\n"
   ]
  },
  {
   "cell_type": "markdown",
   "metadata": {},
   "source": [
    "### List vs numPy array"
   ]
  },
  {
   "cell_type": "code",
   "execution_count": 7,
   "metadata": {},
   "outputs": [
    {
     "name": "stdout",
     "output_type": "stream",
     "text": [
      "Python list multiplication [1, 2, 3, 1, 2, 3]\n",
      "numPy array multiplication [2 4 6]\n",
      "\n",
      " py_list calculation time period 3.3272900581359863\n",
      "\n",
      " np_array calculation time period 0.5450193881988525\n"
     ]
    }
   ],
   "source": [
    "# python list\n",
    "py_list = [1,2,3]\n",
    "print(\"Python list multiplication\" , py_list * 2)\n",
    "\n",
    "#numPy list\n",
    "np_array = np.array([1,2,3])\n",
    "print(\"numPy array multiplication\" , np_array * 2)\n",
    "\n",
    "\n",
    "# Time duration in big calculations\n",
    "start = time.time()\n",
    "py_list = [i*2 for i in range(10000000)]\n",
    "print(\"\\n py_list calculation time period\", time.time() - start)\n",
    "\n",
    "\n",
    "start = time.time()\n",
    "np_array = np.arange(10000000) * 2\n",
    "print(\"\\n np_array calculation time period\", time.time() - start)\n",
    "\n",
    "\n"
   ]
  },
  {
   "cell_type": "markdown",
   "metadata": {},
   "source": [
    "### creating arrays from scratch "
   ]
  },
  {
   "cell_type": "code",
   "execution_count": null,
   "metadata": {},
   "outputs": [
    {
     "name": "stdout",
     "output_type": "stream",
     "text": [
      "[[0. 0. 0. 0.]\n",
      " [0. 0. 0. 0.]\n",
      " [0. 0. 0. 0.]] \n",
      "\n",
      "[[1. 1. 1. 1.]\n",
      " [1. 1. 1. 1.]\n",
      " [1. 1. 1. 1.]\n",
      " [1. 1. 1. 1.]] \n",
      "\n",
      "[[7 7 7 7 7]\n",
      " [7 7 7 7 7]\n",
      " [7 7 7 7 7]\n",
      " [7 7 7 7 7]\n",
      " [7 7 7 7 7]] \n",
      "\n",
      "[ 0  3  6  9 12 15 18]\n"
     ]
    }
   ],
   "source": [
    "# zeros metrics\n",
    "zeros = np.zeros((3,4))\n",
    "print(zeros, \"\\n\")\n",
    "\n",
    "# ones  metrics\n",
    "ones = np.ones((4,4))\n",
    "print(ones , \"\\n\")\n",
    "\n",
    "# constant metrics\n",
    "constant = np.full((5,5),7)\n",
    "print(constant, \"\\n\")\n",
    "\n",
    "# sequence metrics\n",
    "sequence = np.arange(0, 20 , 3) # start , stop , skip\n",
    "print(sequence)"
   ]
  },
  {
   "cell_type": "markdown",
   "metadata": {},
   "source": [
    "### Array properties"
   ]
  },
  {
   "cell_type": "code",
   "execution_count": 13,
   "metadata": {},
   "outputs": [
    {
     "name": "stdout",
     "output_type": "stream",
     "text": [
      "shape (4, 4)\n",
      "size 16\n",
      "dimension 2\n",
      "dtype int64\n"
     ]
    }
   ],
   "source": [
    "arr = np.random.randint(20, size=(4,4)) \n",
    "print(\"shape\" , arr.shape)\n",
    "print(\"size\" , arr.size)\n",
    "print(\"dimension\" , arr.ndim)\n",
    "print(\"dtype\" , arr.dtype)\n"
   ]
  },
  {
   "cell_type": "markdown",
   "metadata": {},
   "source": [
    "### Array reshaping"
   ]
  },
  {
   "cell_type": "code",
   "execution_count": 6,
   "metadata": {},
   "outputs": [
    {
     "name": "stdout",
     "output_type": "stream",
     "text": [
      "original array \n",
      " [ 0  1  2  3  4  5  6  7  8  9 10 11]\n",
      "reshaped array \n",
      " [[ 0  1  2  3]\n",
      " [ 4  5  6  7]\n",
      " [ 8  9 10 11]]\n",
      "flatten array \n",
      " [ 0  1  2  3  4  5  6  7  8  9 10 11]\n",
      "reval array \n",
      " [ 0  1  2  3  4  5  6  7  8  9 10 11]\n",
      "transpose array \n",
      "  [[ 0  4  8]\n",
      " [ 1  5  9]\n",
      " [ 2  6 10]\n",
      " [ 3  7 11]]\n"
     ]
    }
   ],
   "source": [
    "arr = np.arange(12)\n",
    "print(\"original array \\n\", arr)\n",
    "\n",
    "reshapedArray = arr.reshape((3,4))\n",
    "print(\"reshaped array \\n\", reshapedArray) \n",
    "\n",
    "flattenArray = reshapedArray.flatten()\n",
    "print(\"flatten array \\n\", flattenArray) # values base copy\n",
    "\n",
    "ravelArray = reshapedArray.ravel()\n",
    "print(\"reval array \\n\", ravelArray) # this is reference base  copy\n",
    "\n",
    "transposeArray = reshapedArray.T\n",
    "print(\"transpose array \\n \" , transposeArray)"
   ]
  },
  {
   "cell_type": "code",
   "execution_count": null,
   "metadata": {},
   "outputs": [],
   "source": []
  }
 ],
 "metadata": {
  "kernelspec": {
   "display_name": "myvenv",
   "language": "python",
   "name": "python3"
  },
  "language_info": {
   "codemirror_mode": {
    "name": "ipython",
    "version": 3
   },
   "file_extension": ".py",
   "mimetype": "text/x-python",
   "name": "python",
   "nbconvert_exporter": "python",
   "pygments_lexer": "ipython3",
   "version": "3.12.3"
  }
 },
 "nbformat": 4,
 "nbformat_minor": 2
}
