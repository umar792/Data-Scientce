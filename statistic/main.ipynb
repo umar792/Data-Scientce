{
 "cells": [
  {
   "cell_type": "markdown",
   "metadata": {},
   "source": [
    "# Statistic for data-science"
   ]
  },
  {
   "cell_type": "markdown",
   "metadata": {},
   "source": [
    "Statistic is a branch of math that is use to calculate the data using tool and methods to get useful insights\n",
    "\n",
    "### Types\n",
    " 1) Descriptive Statistic\n",
    " 2) Inferential\n",
    "\n",
    "### Descriptive\n",
    "\n",
    "#### Measurement of central tendency\n",
    " \n",
    " 1) Mean : Sum of all values divided total count of values. \n",
    "        example: \n",
    "        mean of 1,2,3,4,5,6,7,8,9 = 1+2+3+4+5+6+8+9 / 9 = 4.2\n",
    "\n",
    " 2) Median: Middle number is called as median.\n",
    "  if even number then sum 2 middle number and divide by 2  get the median\n",
    "    \n",
    "    example : 1,2,3,4 =>  2+3 / 2 => 2.1\n",
    "\n",
    "3) Mode : Most frequent value. Useful for categorical data.\n",
    "\n",
    "\n",
    " \n",
    "    \n"
   ]
  },
  {
   "cell_type": "markdown",
   "metadata": {},
   "source": []
  },
  {
   "cell_type": "markdown",
   "metadata": {},
   "source": [
    "# Probability"
   ]
  },
  {
   "cell_type": "markdown",
   "metadata": {},
   "source": []
  }
 ],
 "metadata": {
  "language_info": {
   "name": "python"
  }
 },
 "nbformat": 4,
 "nbformat_minor": 2
}
