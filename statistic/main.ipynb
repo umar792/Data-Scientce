{
 "cells": [
  {
   "cell_type": "markdown",
   "metadata": {},
   "source": [
    "# Statistic for data-science"
   ]
  },
  {
   "cell_type": "markdown",
   "metadata": {},
   "source": [
    "### Scales of Measurement (How to measure a data)\n",
    "\n",
    "\n",
    "1) Nominal Scale\n",
    "2) Ordinal Scale\n",
    "3) Interval Scale\n",
    "4) Ratio"
   ]
  },
  {
   "cell_type": "markdown",
   "metadata": {},
   "source": [
    "#### Nominal Scale:\n",
    "\n",
    "**Nominal Scale mean to measure data by specific name or by quality**\n",
    "\n",
    "Example => \n",
    "\n",
    "1) Measure Male and Female in a class : Here we measure by specific name\n",
    "2) Measure by specific name like : Calculate the total number of student whose name is *Ali* in class\n",
    "3) Measure by animal name : Total count of birds on earth\n",
    "\n",
    "4) Measure by quality : but we cannot make order between them: Like stand all student whose eye color red : we get the quantity but we do not make order in it . same as stand all student whose hair color is white \n",
    "\n",
    "   "
   ]
  },
  {
   "cell_type": "markdown",
   "metadata": {},
   "source": [
    "### Ordinal \n",
    "\n",
    "**Ordinal measurement mean measure those values whose are in a order**\n",
    "\n",
    "Example : measure of data in  **(First Position | Second Position | Third Position)**"
   ]
  },
  {
   "cell_type": "markdown",
   "metadata": {},
   "source": [
    "### Interval\n",
    "\n",
    "**Interval mean measure values between variables**"
   ]
  },
  {
   "cell_type": "markdown",
   "metadata": {},
   "source": [
    "# Quantitative and Qualitative Data"
   ]
  },
  {
   "cell_type": "markdown",
   "metadata": {},
   "source": []
  }
 ],
 "metadata": {
  "language_info": {
   "name": "python"
  }
 },
 "nbformat": 4,
 "nbformat_minor": 2
}
