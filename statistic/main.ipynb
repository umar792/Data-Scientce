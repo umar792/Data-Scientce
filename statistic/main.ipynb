{
 "cells": [
  {
   "cell_type": "markdown",
   "metadata": {},
   "source": [
    "# Statistic for data-science\n",
    "\n",
    "statistic is a branch of math with which we use the tool of math for analyzing the data and get a useful insights.\n",
    "\n",
    "\n",
    "## Measure of central tendency\n",
    "There are three most use tool to measure the central tendency are mean,median,mode\n",
    "\n",
    "#### Mean \n",
    "The average of the numbers is known as mean. the mean of 1,4,5,7,8,9 => 1+4+5+7+8+9 / 6 is 5.6\n",
    "\n",
    "#### Median\n",
    "The middle part of the numbers is known as the median the median of 1,2,3,4,5,6 is 3+4 / 2 => 3.5 and the median of 1,2,3,4,5 is 3\n",
    "\n",
    "### Mode\n",
    "the most repeated number is known as the mode , 1,2,3,1,3,4,5,1,1,1,1 here the mode is 1\n",
    "\n"
   ]
  },
  {
   "cell_type": "markdown",
   "metadata": {},
   "source": [
    "## Measure of Spread\n",
    "Measure of spread mean find the central point and find the distance from the center point to our data, in simple wording we just say to find the how much our data is spread out from the central point called as measure of spread\n",
    "\n",
    "\n",
    "1) **Range**\n",
    "2) **IQR(Interquartile Rnage)**\n",
    "\n",
    "\n",
    "### Range\n",
    "By subtracting our data from max number to min number give us a number which known as range\n",
    "\n",
    "### IQR\n",
    "In IQR we are measuring the distance between one quarter to another quarter in our data\n",
    "\n",
    "**Example**\n",
    "\n",
    "12,12,13,14,15,17,20,20,28,29,31,35,46,46,48,51,59,60\n",
    "\n",
    "IQR = Q1(25%),Q2(50%),Q3(75%),Q4(100%)\n",
    "\n",
    "IQR = Q3 - Q1\n",
    "\n",
    "now for finding the q1 and q2, and q3 we just find the median of the our data set , Q2 is also the middle number\n",
    "\n",
    "Q2 = 28.5 \n",
    "\n",
    "Q1 = take first set of number before middle number which are (12,12,13,14,15,17,20,20,28) so the middle number of these data is known as Q1 which is 15\n",
    "\n",
    "Q3 = take second set of number after middle number which are (29,31,35,46,46,48,51,59,60) so the middle number of these data is known as Q1 which is 46\n",
    "\n",
    "Q1 = 15\n",
    "Q2 = 28.5\n",
    "Q3 = 46\n",
    "\n",
    "IQR = Q3 - Q1\n",
    "IQR = 46 - 15 \n",
    "IQR = 31\n",
    "\n"
   ]
  },
  {
   "cell_type": "markdown",
   "metadata": {},
   "source": [
    "## Outliers\n",
    "\n",
    "Outliers are the number which are so far from other number like , (1,4,5,7,9,10,101) so here 101 is the outlier\n",
    "if we calculate the data with outliers we get wrong median , and mean , and there is much distance between mean and median\n",
    "\n",
    "\n",
    "#### How to find the outliers\n",
    "\n",
    "we have a data set (1,1,2,2,3,4,5,5,6,6,7,8,9,9,10,10,11,13,13,14,15,101)\n",
    "the data which is greater then upper fence and l lower then lower fence are out liners\n",
    "\n",
    "\n",
    "upper fence = Q3 + 1.5(IQR)\n",
    "lower fence = Q1 - 1.5(IQR)\n",
    "\n",
    "\n",
    "Q1 = 4\n",
    "Q2 = 7.5\n",
    "Q3 = 11\n",
    "\n",
    "IQR = Q3 - Q1\n",
    "IQR = 11 - 4 = 7\n",
    "\n",
    "upper fence = Q3 + 1.5(IQR)\n",
    "upper fence = 11 + 1.5(7)\n",
    "upper fence = 21.5\n",
    "\n",
    "\n",
    "lower fence = Q1 - 1.5(IQR)\n",
    "lower fence = 4 - 1.5(7)\n",
    "lower fence = -6.5\n",
    "\n",
    "so the number grater then 21.5 and less then -6.5 are outliers like in above data set the out liers is 101\n"
   ]
  },
  {
   "cell_type": "markdown",
   "metadata": {},
   "source": [
    "### 5 Number Summery\n",
    "1) Min number\n",
    "2) Q1\n",
    "3) Q2\n",
    "4) Q3\n",
    "5) Max number\n",
    "\n",
    "\n",
    "**Example**\n",
    "\n",
    "2,4,7,10,15,20,25,205\n",
    "\n",
    "first remove the outliers\n",
    "\n",
    "now apply the 5 number on the data set\n",
    "\n",
    "Q2 = 12.5 (middle number)\n",
    "Q1 = 5.5\n",
    "Q3 = 22.5\n",
    "\n",
    "IQR = Q3 - Q1 = 22.5 - 5.5 = 17\n",
    "\n",
    "\n",
    "Outlier boundaries:\n",
    "\n",
    "upper bound = Q3 + 1.5(IQR)\n",
    "upper bound = 22.5 + 1.5(17) = 48\n",
    "\n",
    "Lower bound = Q1 - 1.5(IQR)\n",
    "Lower bound = 5.5 - 1.5(17) = -20\n",
    "\n",
    "so any number which is greater then 48 and less then -20 are outliers , so in above data set the outliers is 205\n",
    "\n",
    "(2,4,7,10,15,20,25)\n",
    "\n",
    "1) Min number = 2\n",
    "2) Q1 = 10\n",
    "3) Q2 = 4\n",
    "4) Q3 = 20\n",
    "5) Max number = 25\n",
    "\n",
    "\n"
   ]
  },
  {
   "cell_type": "markdown",
   "metadata": {},
   "source": [
    "## find and remove the outlier using code"
   ]
  },
  {
   "cell_type": "code",
   "execution_count": 5,
   "metadata": {},
   "outputs": [
    {
     "name": "stdout",
     "output_type": "stream",
     "text": [
      "Original array:\n",
      " [  2   3   4   6   7   8   9  12  13  16  17  23  25  27  34  37 201]\n",
      "New array without outliers:\n",
      " [ 2  3  4  6  7  8  9 12 13 16 17 23 25 27 34 37]\n"
     ]
    },
    {
     "data": {
      "text/plain": [
       "<Axes: >"
      ]
     },
     "execution_count": 5,
     "metadata": {},
     "output_type": "execute_result"
    },
    {
     "data": {
      "image/png": "[encoded data removed]",
      "text/plain": [
       "<Figure size 640x480 with 1 Axes>"
      ]
     },
     "metadata": {},
     "output_type": "display_data"
    }
   ],
   "source": [
    "import numpy as np\n",
    "import seaborn as sns\n",
    "arr = np.array([2,3,4,6,7,8,9,12,13,16,17,23,25,27,34,37,201])\n",
    "\n",
    "Q1 = np.percentile(arr,25)\n",
    "Q3 = np.percentile(arr,75)\n",
    "IQR = Q3 -Q1\n",
    "\n",
    "upper_bound = Q3 + (1.5 * IQR)\n",
    "lower_bound = Q1 - (1.5 * IQR)\n",
    "\n",
    "l = []\n",
    "for i in arr:\n",
    "    if i < upper_bound and i > lower_bound:\n",
    "        l.append(i)\n",
    "new_arr = np.array(l)\n",
    "print(\"Original array:\\n\", arr )\n",
    "print(\"New array without outliers:\\n\", new_arr)\n",
    "\n",
    "\n",
    "\n",
    "sns.boxplot(x=new_arr)\n"
   ]
  },
  {
   "cell_type": "markdown",
   "metadata": {},
   "source": [
    "## Data Distribution "
   ]
  },
  {
   "cell_type": "markdown",
   "metadata": {},
   "source": [
    "In data distribution we will see how are data is spread out from our mean.In data distribution we will see **mean**, **variance**,**STD**\n",
    "\n",
    "#### Population and Sample Data\n",
    "**Population** : In Population we will use the total data for our calculation\n",
    "**Sample Data** : In Sample Data we will use a small part of our Population for calculation\n",
    "\n",
    "**Mean** : tell us the average number in out data\n",
    "**Variance**: tell us how far the number from the mean in unit square\n",
    "**Standard deviation** : tell how far the number from the mean in same unit as the data have not in square \n",
    "\n",
    "\n",
    "**Example** : (85,90,95,100,105)\n",
    "\n",
    "average = 85 + 90 + 95 + 100 + 105 / 5 = 95\n",
    "\n",
    "\n",
    "**variance**:\n",
    "for finding the variance need to subtract each number with mean \n",
    "(85 - 95)² => (-10)² => 100  \n",
    "(90 - 95)² => (-5)²  => 25  \n",
    "(95 - 95)² => (0)²   => 0  \n",
    "(100 - 95)² => (5)²  => 25  \n",
    "(105 - 95)² => (10)² => 100 \n",
    "\n",
    "\n",
    "variance = 100 + 25 + 0 + 25 + 100 / 5 => 50\n",
    "\n",
    "**STD**:\n",
    "STD = √50 ≈ 7.07\n"
   ]
  },
  {
   "cell_type": "code",
   "execution_count": 7,
   "metadata": {},
   "outputs": [
    {
     "name": "stdout",
     "output_type": "stream",
     "text": [
      "Mean: 95.0\n",
      "Variance: 50.0\n",
      "STD:  7.0710678118654755\n"
     ]
    }
   ],
   "source": [
    "import math\n",
    "\n",
    "data = [85,90,95,100,105];\n",
    "mean  = sum(data) / len(data)\n",
    "variance = sum((x - mean)**2 for x in data) / len(data)\n",
    "STD = math.sqrt(variance)\n",
    "\n",
    "print(\"Mean:\", mean)\n",
    "print(\"Variance:\", variance)\n",
    "print(\"STD: \", STD)"
   ]
  },
  {
   "cell_type": "code",
   "execution_count": null,
   "metadata": {},
   "outputs": [],
   "source": []
  }
 ],
 "metadata": {
  "kernelspec": {
   "display_name": "myvenv",
   "language": "python",
   "name": "python3"
  },
  "language_info": {
   "codemirror_mode": {
    "name": "ipython",
    "version": 3
   },
   "file_extension": ".py",
   "mimetype": "text/x-python",
   "name": "python",
   "nbconvert_exporter": "python",
   "pygments_lexer": "ipython3",
   "version": "3.12.3"
  }
 },
 "nbformat": 4,
 "nbformat_minor": 2
}
