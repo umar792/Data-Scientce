{
 "cells": [
  {
   "cell_type": "markdown",
   "metadata": {},
   "source": [
    "# Statistic for data-science\n",
    "\n",
    "statistic is a branch of math with which we use the tool of math for analyzing the data and get a useful insights.\n",
    "\n",
    "\n",
    "### Measure of central tendency\n",
    "There are three most use tool to measure the central tendency are mean,median,mode\n",
    "\n",
    "#### Mean \n",
    "The average of the numbers is known as mean. the mean of 1,4,5,7,8,9 => 1+4+5+7+8+9 / 6 is 5.6\n",
    "\n",
    "#### Median\n",
    "The middle part of the numbers is known as the median the median of 1,2,3,4,5,6 is 3+4 / 2 => 3.5 and the median of 1,2,3,4,5 is 3\n",
    "\n",
    "### Mode\n",
    "the most repeated number is known as the mode , 1,2,3,1,3,4,5,1,1,1,1 here the mode is 1"
   ]
  }
 ],
 "metadata": {
  "language_info": {
   "name": "python"
  }
 },
 "nbformat": 4,
 "nbformat_minor": 2
}
