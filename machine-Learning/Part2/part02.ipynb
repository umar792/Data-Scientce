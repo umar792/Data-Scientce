{
 "cells": [
  {
   "cell_type": "markdown",
   "metadata": {},
   "source": [
    "# Data-Science Part 02"
   ]
  },
  {
   "cell_type": "markdown",
   "metadata": {},
   "source": [
    "### Topics \n",
    "1) What is Regression algorithm \n",
    "   1) Linear Regression\n",
    "2) Regression algorithm\n",
    "3) Modal Evaluation Technique\n",
    "4) Over-fitting and Under-fitting\n",
    "5) Hands on projects"
   ]
  },
  {
   "cell_type": "markdown",
   "metadata": {},
   "source": [
    "## What is Regression\n",
    "Regression is a machine learning method that helps us predict continuous numbers (not categories).\n",
    "In simple wording Regression is used to predict a value (like price, temperature, marks) based on input data.\n",
    "\n",
    "examples : \n",
    "Predict house price\n",
    "Predict salary\n",
    "predict marks \n",
    "\n",
    "### Liner Regression\n",
    "Liner regression is a simplest form of regression that tries to draw a fit line between our data set\n",
    "\n",
    "formula => y = mx + c\n",
    "\n",
    "here m is slope\n",
    "here x is input value\n",
    "here c is intercept\n",
    "here y is output\n"
   ]
  }
 ],
 "metadata": {
  "language_info": {
   "name": "python"
  }
 },
 "nbformat": 4,
 "nbformat_minor": 2
}
