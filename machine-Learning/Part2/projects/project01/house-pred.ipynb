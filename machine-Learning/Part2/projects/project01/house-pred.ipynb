{
 "cells": [
  {
   "cell_type": "code",
   "execution_count": null,
   "metadata": {},
   "outputs": [],
   "source": [
    "import pandas as pd\n",
    "from sklearn.model_selection import train_test_split\n",
    "from sklearn.linear_model import LinearRegression\n"
   ]
  },
  {
   "cell_type": "code",
   "execution_count": 52,
   "metadata": {},
   "outputs": [
    {
     "name": "stdout",
     "output_type": "stream",
     "text": [
      "[[178141.17629845]\n",
      " [101326.08831261]\n",
      " [ 84363.75420356]\n",
      " [ 99592.69466544]\n",
      " [ 83634.8130033 ]\n",
      " [137732.60988607]\n",
      " [161425.07567415]\n",
      " [135151.66256733]\n",
      " [204357.53530515]\n",
      " [160678.11738964]\n",
      " [125290.31178811]\n",
      " [185140.81352938]\n",
      " [200378.01182154]\n",
      " [181616.97213492]\n",
      " [ 93704.86167507]\n",
      " [ 70058.18930946]\n",
      " [191563.15335248]\n",
      " [149400.92407315]\n",
      " [ 82658.88760645]\n",
      " [143542.36884469]\n",
      " [132464.11416678]]\n",
      "Area : [2095.62] actual price is [178973.46] and predicted price is [178141.17629845]\n",
      "Area : [1072.39] actual price is [101674.9] and predicted price is [101326.08831261]\n",
      "Area : [846.44] actual price is [87674.02] and predicted price is [84363.75420356]\n",
      "Area : [1049.3] actual price is [102206.82] and predicted price is [99592.69466544]\n",
      "Area : [836.73] actual price is [85820.49] and predicted price is [83634.8130033]\n",
      "Area : [1557.35] actual price is [138605.97] and predicted price is [137732.60988607]\n",
      "Area : [1872.95] actual price is [154001.29] and predicted price is [161425.07567415]\n",
      "Area : [1522.97] actual price is [135063.77] and predicted price is [135151.66256733]\n",
      "Area : [2444.84] actual price is [204862.65] and predicted price is [204357.53530515]\n",
      "Area : [1863.] actual price is [159158.84] and predicted price is [160678.11738964]\n",
      "Area : [1391.61] actual price is [129649.39] and predicted price is [125290.31178811]\n",
      "Area : [2188.86] actual price is [183470.38] and predicted price is [185140.81352938]\n",
      "Area : [2391.83] actual price is [202304.53] and predicted price is [200378.01182154]\n",
      "Area : [2141.92] actual price is [180052.31] and predicted price is [181616.97213492]\n",
      "Area : [970.87] actual price is [90757.81] and predicted price is [93704.86167507]\n",
      "Area : [655.88] actual price is [71127.95] and predicted price is [70058.18930946]\n",
      "Area : [2274.41] actual price is [192057.] and predicted price is [191563.15335248]\n",
      "Area : [1712.78] actual price is [149993.27] and predicted price is [149400.92407315]\n",
      "Area : [823.73] actual price is [82822.35] and predicted price is [82658.88760645]\n",
      "Area : [1634.74] actual price is [147473.21] and predicted price is [143542.36884469]\n",
      "Area : [1487.17] actual price is [135447.63] and predicted price is [132464.11416678]\n"
     ]
    }
   ],
   "source": [
    "# load the data set\n",
    "df = pd.read_csv(\"./data.csv\", thousands=\",\")\n",
    "X = df.drop(columns=[\"Price\"])\n",
    "Y = df[[\"Price\"]]\n",
    "\n",
    "X_train, X_test, y_train, y_test = train_test_split(X, Y, test_size=0.40, random_state=42)\n",
    "\n",
    "model = LinearRegression()\n",
    "model.fit(X_train , y_train)\n",
    "\n",
    "predictions = model.predict(X_test)\n",
    "print(predictions)\n",
    "\n",
    "for area , actual  , predict in zip(X_test.values , y_test.values , predictions):\n",
    "    print(f'Area : {area} actual price is {actual} and predicted price is {predict}')\n"
   ]
  },
  {
   "cell_type": "code",
   "execution_count": 53,
   "metadata": {},
   "outputs": [
    {
     "name": "stdout",
     "output_type": "stream",
     "text": [
      "r2 prediction percentage : 0.9959452914154112\n"
     ]
    }
   ],
   "source": [
    "# now check is our model is good or not\n",
    "from sklearn.metrics import r2_score\n",
    "\n",
    "r2 = r2_score(y_test ,predictions)\n",
    "print(\"r2 prediction percentage :\" , r2)"
   ]
  },
  {
   "cell_type": "code",
   "execution_count": 54,
   "metadata": {},
   "outputs": [
    {
     "data": {
      "text/plain": [
       "0.9957318857004328"
      ]
     },
     "execution_count": 54,
     "metadata": {},
     "output_type": "execute_result"
    }
   ],
   "source": [
    "# now check the adjust r2 \n",
    "\n",
    "n = X_test.shape[0] \n",
    "p = X_test.shape[1]\n",
    "\n",
    "r2_adjust =  1 - ((1 - r2) * (n -1) / (n - p -1) )\n",
    "r2_adjust"
   ]
  },
  {
   "cell_type": "code",
   "execution_count": 55,
   "metadata": {},
   "outputs": [],
   "source": [
    "# so our r2 and adjust r2 are correct so our model is good"
   ]
  }
 ],
 "metadata": {
  "kernelspec": {
   "display_name": "myvenv",
   "language": "python",
   "name": "python3"
  },
  "language_info": {
   "codemirror_mode": {
    "name": "ipython",
    "version": 3
   },
   "file_extension": ".py",
   "mimetype": "text/x-python",
   "name": "python",
   "nbconvert_exporter": "python",
   "pygments_lexer": "ipython3",
   "version": "3.12.3"
  }
 },
 "nbformat": 4,
 "nbformat_minor": 2
}
