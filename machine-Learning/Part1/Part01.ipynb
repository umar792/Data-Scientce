{
 "cells": [
  {
   "cell_type": "markdown",
   "metadata": {},
   "source": [
    "# Machine Learning\n",
    "\n",
    "### AI vs ML vs DL\n",
    "\n",
    "**AI** => \n",
    "Playing chess like human , any think that mimics like human is known as AI\n",
    "\n",
    "**ML**=>\n",
    "Machine is a subset of the AI , this is where machine learn from data and improve over the time known as ML\n",
    "\n",
    "**DL**=>\n",
    "Deep-learning mean is a subset of the ML where we talk about neural networks"
   ]
  },
  {
   "cell_type": "markdown",
   "metadata": {},
   "source": [
    "## Types of ML\n",
    "1) Supervised Learning\n",
    "2) Unsupervised Learning\n",
    "3) Reinforcement Learning"
   ]
  },
  {
   "cell_type": "markdown",
   "metadata": {},
   "source": [
    "## EDA\n",
    "1) Problem definition\n",
    "2) Data collection\n",
    "3) EDA\n",
    "4) Data pre-processing / cleaning\n",
    "5) Feature selection and engineering"
   ]
  },
  {
   "cell_type": "markdown",
   "metadata": {},
   "source": []
  }
 ],
 "metadata": {
  "language_info": {
   "name": "python"
  }
 },
 "nbformat": 4,
 "nbformat_minor": 2
}
